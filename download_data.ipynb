{
 "cells": [
  {
   "cell_type": "markdown",
   "metadata": {},
   "source": [
    "## Download Data"
   ]
  },
  {
   "cell_type": "code",
   "execution_count": null,
   "metadata": {},
   "outputs": [],
   "source": [
    "import snscrape.modules.twitter as sntwitter\n",
    "import pandas as pd\n",
    "\n",
    "# Search parameters\n",
    "search_terms = ['#StopAAPIHate','#AtlantaShooting','#StopAsianHateCrimes']\n",
    "search_start_date = '2020-01-01'\n",
    "search = ' OR '.join(search_terms)+f' since:{search_start_date}'\n",
    "\n",
    "# Loop through tweets and build up a pandas dataframe of them\n",
    "tweets = []\n",
    "batch_num = 1\n",
    "try:\n",
    "    for i,item in enumerate(sntwitter.TwitterSearchScraper(search).get_items()):\n",
    "\n",
    "        # Save items from that specific tweet\n",
    "        tweet = {\n",
    "            'url': item.url, \n",
    "            'date': item.date,  \n",
    "            'content': item.content,\n",
    "            'coordinates':item.coordinates,\n",
    "            'place':item.place,\n",
    "            'renderedContent': item.renderedContent,\n",
    "            'id': item.id,  \n",
    "            'username': item.user.username,\n",
    "            'user': item.user, \n",
    "            'replyCount': item.replyCount,  \n",
    "            'retweetCount': item.retweetCount,  \n",
    "            'likeCount': item.likeCount,\n",
    "            'quoteCount': item.quoteCount,\n",
    "            'conversationId': item.conversationId,\n",
    "            'lang': item.lang,  \n",
    "            'source': item.source,  \n",
    "            'sourceLabel':item.sourceLabel,\n",
    "            'sourceUrl':item.sourceUrl,\n",
    "            'retweetedTweet': item.retweetedTweet,\n",
    "            'quotedTweet': item.quotedTweet,\n",
    "            'outlinks': [item.outlinks],  \n",
    "            'tcooutlinks': [item.tcooutlinks],  \n",
    "            'media': [item.media],\n",
    "            'mentionedUsers': [item.mentionedUsers]\n",
    "        }\n",
    "        tweets.append(tweet)\n",
    "\n",
    "        if (i+1) % 1000 == 0:\n",
    "            print(f'Finished {i+1} tweets...')    \n",
    "\n",
    "        if (i+1) % 10000 == 0:\n",
    "\n",
    "            # Save this batch to CSV\n",
    "            pd.DataFrame(tweets).to_csv(f'data/tweets_{batch_num}.csv')\n",
    "            print(f'Saved batch {batch_num} to CSV')\n",
    "\n",
    "            # Reset for next batch\n",
    "            tweets     = []\n",
    "            batch_num += 1\n",
    "            \n",
    "except sntwitter.ScraperException:\n",
    "    pd.DataFrame(tweets).to_csv(f'data/tweets_{batch_num}.csv')"
   ]
  },
  {
   "cell_type": "markdown",
   "metadata": {},
   "source": [
    "## Process Data"
   ]
  },
  {
   "cell_type": "code",
   "execution_count": 66,
   "metadata": {},
   "outputs": [
    {
     "data": {
      "text/plain": [
       "(395518, 24)"
      ]
     },
     "execution_count": 66,
     "metadata": {},
     "output_type": "execute_result"
    }
   ],
   "source": [
    "import os\n",
    "import pandas as pd\n",
    "\n",
    "df = pd.DataFrame()\n",
    "for file in os.listdir(\"data\"):\n",
    "    if file.endswith(\".csv\"):\n",
    "        curr_df = pd.read_csv(os.path.join(\"data\", file), index_col=0)\n",
    "        df = pd.concat((df,curr_df))\n",
    "df.shape"
   ]
  },
  {
   "cell_type": "code",
   "execution_count": 70,
   "metadata": {},
   "outputs": [
    {
     "data": {
      "text/plain": [
       "Index(['url', 'date', 'content', 'coordinates', 'place', 'renderedContent',\n",
       "       'id', 'username', 'user', 'replyCount', 'retweetCount', 'likeCount',\n",
       "       'quoteCount', 'conversationId', 'lang', 'source', 'sourceLabel',\n",
       "       'sourceUrl', 'retweetedTweet', 'quotedTweet', 'outlinks', 'tcooutlinks',\n",
       "       'media', 'mentionedUsers'],\n",
       "      dtype='object')"
      ]
     },
     "execution_count": 70,
     "metadata": {},
     "output_type": "execute_result"
    }
   ],
   "source": [
    "df.columns"
   ]
  },
  {
   "cell_type": "code",
   "execution_count": 67,
   "metadata": {},
   "outputs": [
    {
     "name": "stdout",
     "output_type": "stream",
     "text": [
      "en     246014\n",
      "und     91818\n",
      "es      22469\n",
      "pt       7308\n",
      "ko       6982\n",
      "tr       4589\n",
      "ja       3189\n",
      "th       3024\n",
      "in       2909\n",
      "ar       1467\n",
      "Name: lang, dtype: int64\n"
     ]
    },
    {
     "data": {
      "text/plain": [
       "(246014, 24)"
      ]
     },
     "execution_count": 67,
     "metadata": {},
     "output_type": "execute_result"
    }
   ],
   "source": [
    "# Drop non-English tweets\n",
    "print(df['lang'].value_counts().head(10))\n",
    "df = df[df['lang'] == 'en']\n",
    "df.shape"
   ]
  },
  {
   "cell_type": "code",
   "execution_count": 65,
   "metadata": {},
   "outputs": [
    {
     "name": "stdout",
     "output_type": "stream",
     "text": [
      "2021-03-30    140440\n",
      "2021-03-18     15274\n",
      "2021-03-17     12964\n",
      "2021-04-11      8528\n",
      "2021-03-19      7291\n",
      "               ...  \n",
      "2020-09-20         1\n",
      "2021-01-15         1\n",
      "2020-12-12         1\n",
      "2021-01-17         1\n",
      "2020-11-27         1\n",
      "Name: date, Length: 305, dtype: int64\n"
     ]
    },
    {
     "data": {
      "image/png": "[encoded data removed]",
      "text/plain": [
       "<Figure size 432x288 with 1 Axes>"
      ]
     },
     "metadata": {
      "needs_background": "light"
     },
     "output_type": "display_data"
    },
    {
     "data": {
      "image/png": "[encoded data removed]",
      "text/plain": [
       "<Figure size 432x288 with 1 Axes>"
      ]
     },
     "metadata": {
      "needs_background": "light"
     },
     "output_type": "display_data"
    }
   ],
   "source": [
    "import matplotlib.pyplot as plt\n",
    "\n",
    "# Get frequency counts by date\n",
    "dates = pd.to_datetime(df['date']).dt.date\n",
    "dates_count = dates.value_counts().sort_index()\n",
    "print(dates.value_counts())\n",
    "\n",
    "# Plot results\n",
    "plt.plot(dates_count.index, dates_count)\n",
    "plt.title(\"Daily Tweet Counts in 2021\")\n",
    "plt.xlim(['2021-01-01','2021-05-01'])\n",
    "plt.xticks(rotation=45)\n",
    "plt.show()\n",
    "\n",
    "# Plot results\n",
    "plt.plot(dates_count.index, dates_count)\n",
    "plt.title(\"Daily Tweet Counts in 2021\")\n",
    "plt.ylim([0, 20000])\n",
    "plt.xlim(['2021-01-01','2021-05-01'])h\n",
    "plt.xticks(rotation=45)\n",
    "plt.show()"
   ]
  },
  {
   "cell_type": "code",
   "execution_count": null,
   "metadata": {},
   "outputs": [],
   "source": []
  }
 ],
 "metadata": {
  "kernelspec": {
   "display_name": "Python 3",
   "language": "python",
   "name": "python3"
  },
  "language_info": {
   "codemirror_mode": {
    "name": "ipython",
    "version": 3
   },
   "file_extension": ".py",
   "mimetype": "text/x-python",
   "name": "python",
   "nbconvert_exporter": "python",
   "pygments_lexer": "ipython3",
   "version": "3.8.5"
  }
 },
 "nbformat": 4,
 "nbformat_minor": 4
}
