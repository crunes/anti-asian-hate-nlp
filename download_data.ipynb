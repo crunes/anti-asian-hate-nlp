{
 "cells": [
  {
   "cell_type": "code",
   "execution_count": null,
   "metadata": {},
   "outputs": [],
   "source": [
    "import snscrape.modules.twitter as sntwitter\n",
    "import pandas as pd\n",
    "\n",
    "# Search parameters\n",
    "search_terms = ['#StopAAPIHate','#AtlantaShooting','#StopAsianHateCrimes']\n",
    "search_start_date = '2020-01-01'\n",
    "search = ' OR '.join(search_terms)+f' since:{search_start_date}'\n",
    "\n",
    "# Loop through tweets and build up a pandas dataframe of them\n",
    "tweets = []\n",
    "batch_num = 1\n",
    "try:\n",
    "    for i,item in enumerate(sntwitter.TwitterSearchScraper(search).get_items()):\n",
    "\n",
    "        # Save items from that specific tweet\n",
    "        tweet = {\n",
    "            'url': item.url, \n",
    "            'date': item.date,  \n",
    "            'content': item.content,\n",
    "            'coordinates':item.coordinates,\n",
    "            'place':item.place,\n",
    "            'renderedContent': item.renderedContent,\n",
    "            'id': item.id,  \n",
    "            'username': item.user.username,\n",
    "            'user': item.user, \n",
    "            'replyCount': item.replyCount,  \n",
    "            'retweetCount': item.retweetCount,  \n",
    "            'likeCount': item.likeCount,\n",
    "            'quoteCount': item.quoteCount,\n",
    "            'conversationId': item.conversationId,\n",
    "            'lang': item.lang,  \n",
    "            'source': item.source,  \n",
    "            'sourceLabel':item.sourceLabel,\n",
    "            'sourceUrl':item.sourceUrl,\n",
    "            'retweetedTweet': item.retweetedTweet,\n",
    "            'quotedTweet': item.quotedTweet,\n",
    "            'outlinks': [item.outlinks],  \n",
    "            'tcooutlinks': [item.tcooutlinks],  \n",
    "            'media': [item.media],\n",
    "            'mentionedUsers': [item.mentionedUsers]\n",
    "        }\n",
    "        tweets.append(tweet)\n",
    "\n",
    "        if (i+1) % 1000 == 0:\n",
    "            print(f'Finished {i+1} tweets...')    \n",
    "\n",
    "        if (i+1) % 10000 == 0:\n",
    "\n",
    "            # Save this batch to CSV\n",
    "            pd.DataFrame(tweets).to_csv(f'data/tweets_{batch_num}.csv')\n",
    "            print(f'Saved batch {batch_num} to CSV')\n",
    "\n",
    "            # Reset for next batch\n",
    "            tweets     = []\n",
    "            batch_num += 1\n",
    "            \n",
    "except sntwitter.ScraperException:\n",
    "    pd.DataFrame(tweets).to_csv(f'data/tweets_{batch_num}.csv')"
   ]
  },
  {
   "cell_type": "code",
   "execution_count": null,
   "metadata": {},
   "outputs": [],
   "source": []
  },
  {
   "cell_type": "code",
   "execution_count": null,
   "metadata": {},
   "outputs": [],
   "source": []
  }
 ],
 "metadata": {
  "kernelspec": {
   "display_name": "Python 3",
   "language": "python",
   "name": "python3"
  },
  "language_info": {
   "codemirror_mode": {
    "name": "ipython",
    "version": 3
   },
   "file_extension": ".py",
   "mimetype": "text/x-python",
   "name": "python",
   "nbconvert_exporter": "python",
   "pygments_lexer": "ipython3",
   "version": "3.8.5"
  }
 },
 "nbformat": 4,
 "nbformat_minor": 4
}
